{
 "cells": [
  {
   "cell_type": "code",
   "execution_count": null,
   "id": "f983aacf",
   "metadata": {},
   "outputs": [],
   "source": [
    "import argparse\n",
    "import os\n",
    "import socket\n",
    "import sys\n",
    "\n",
    "import confundo\n",
    "\n",
    "PORT = 54000\n",
    "HOST = '131.94.128.43'\n",
    "FILE = 'hello.txt'\n",
    "\n",
    "def start():\n",
    "    try:\n",
    "        with confundo.Socket() as sock:\n",
    "            sock.settimeout(10)\n",
    "            sock.connect((HOST, int(PORT)))\n",
    "\n",
    "            with open(FILE, \"rb\") as f:\n",
    "                data = f.read(50000)\n",
    "                while data:\n",
    "                    total_sent = 0\n",
    "                    while total_sent < len(data):\n",
    "                        sent = sock.send(data[total_sent:])\n",
    "                        total_sent += sent\n",
    "                        data = f.read(50000)\n",
    "    except RuntimeError as e:\n",
    "        sys.stderr.write(f\"ERROR: {e}\\n\")\n",
    "        sys.exit(1)\n",
    "\n",
    "if __name__ == '__main__':\n",
    "    start()"
   ]
  },
  {
   "cell_type": "code",
   "execution_count": 5,
   "id": "26d80b9a",
   "metadata": {},
   "outputs": [
    {
     "name": "stdout",
     "output_type": "stream",
     "text": [
      "Message from Server b'Hello UDP Client'\n"
     ]
    }
   ],
   "source": [
    "import socket\n",
    "\n",
    " \n",
    "\n",
    "\n",
    "\n",
    "bytesToSend         = (1).to_bytes(4,byteorder='big')\n",
    "\n",
    "serverAddressPort   = (\"127.0.0.1\", 20001)\n",
    "\n",
    "bufferSize          = 1024\n",
    "\n",
    " \n",
    "\n",
    "# Create a UDP socket at client side\n",
    "\n",
    "UDPClientSocket = socket.socket(family=socket.AF_INET, type=socket.SOCK_DGRAM)\n",
    "\n",
    " \n",
    "\n",
    "# Send to server using created UDP socket\n",
    "\n",
    "UDPClientSocket.sendto(bytesToSend, serverAddressPort)\n",
    "\n",
    " \n",
    "\n",
    "msgFromServer = UDPClientSocket.recvfrom(bufferSize)\n",
    "\n",
    " \n",
    "\n",
    "msg = \"Message from Server {}\".format(msgFromServer[0])\n",
    "\n",
    "print(msg)"
   ]
  },
  {
   "cell_type": "code",
   "execution_count": null,
   "id": "923c9b8a",
   "metadata": {},
   "outputs": [],
   "source": [
    "\n"
   ]
  },
  {
   "cell_type": "code",
   "execution_count": null,
   "id": "7ac217cb",
   "metadata": {},
   "outputs": [],
   "source": []
  },
  {
   "cell_type": "code",
   "execution_count": null,
   "id": "437194f3",
   "metadata": {},
   "outputs": [],
   "source": []
  }
 ],
 "metadata": {
  "kernelspec": {
   "display_name": "Python 3 (ipykernel)",
   "language": "python",
   "name": "python3"
  },
  "language_info": {
   "codemirror_mode": {
    "name": "ipython",
    "version": 3
   },
   "file_extension": ".py",
   "mimetype": "text/x-python",
   "name": "python",
   "nbconvert_exporter": "python",
   "pygments_lexer": "ipython3",
   "version": "3.8.11"
  }
 },
 "nbformat": 4,
 "nbformat_minor": 5
}
