{
 "cells": [
  {
   "cell_type": "code",
   "execution_count": 1,
   "id": "59b54fd4",
   "metadata": {},
   "outputs": [
    {
     "ename": "SyntaxError",
     "evalue": "invalid syntax (socket.py, line 99)",
     "output_type": "error",
     "traceback": [
      "Traceback \u001b[1;36m(most recent call last)\u001b[0m:\n",
      "  File \u001b[0;32m\"C:\\Users\\marfe\\anaconda3\\lib\\site-packages\\IPython\\core\\interactiveshell.py\"\u001b[0m, line \u001b[0;32m3441\u001b[0m, in \u001b[0;35mrun_code\u001b[0m\n    exec(code_obj, self.user_global_ns, self.user_ns)\n",
      "  File \u001b[0;32m\"C:\\Users\\marfe\\AppData\\Local\\Temp/ipykernel_9328/3940731196.py\"\u001b[0m, line \u001b[0;32m6\u001b[0m, in \u001b[0;35m<module>\u001b[0m\n    import confundo\n",
      "\u001b[1;36m  File \u001b[1;32m\"C:\\Users\\marfe\\Desktop\\Fall 2021\\Net Centric\\Code\\Projects\\Project 2\\fall21-project2-master\\confundo\\__init__.py\"\u001b[1;36m, line \u001b[1;32m6\u001b[1;36m, in \u001b[1;35m<module>\u001b[1;36m\u001b[0m\n\u001b[1;33m    from .socket import Socket\u001b[0m\n",
      "\u001b[1;36m  File \u001b[1;32m\"C:\\Users\\marfe\\Desktop\\Fall 2021\\Net Centric\\Code\\Projects\\Project 2\\fall21-project2-master\\confundo\\socket.py\"\u001b[1;36m, line \u001b[1;32m99\u001b[0m\n\u001b[1;33m    clientSock = Socket(connId = self.connId, synReceived=True, sock=self.sock, inSeq=????, noClose=True)\u001b[0m\n\u001b[1;37m                                                                                      ^\u001b[0m\n\u001b[1;31mSyntaxError\u001b[0m\u001b[1;31m:\u001b[0m invalid syntax\n"
     ]
    }
   ],
   "source": [
    "import argparse\n",
    "import os\n",
    "import socket\n",
    "import sys\n",
    "\n",
    "import confundo\n",
    "\n",
    "PORT = 54000\n",
    "HOST = '131.94.128.43'\n",
    "FILE = 'hello.txt'\n",
    "\n",
    "def start():\n",
    "    try:\n",
    "        with confundo.Socket() as sock:\n",
    "            sock.settimeout(10)\n",
    "            sock.connect((HOST, int(PORT)))\n",
    "\n",
    "            with open(FILE, \"rb\") as f:\n",
    "                data = f.read(50000)\n",
    "                while data:\n",
    "                    total_sent = 0\n",
    "                    while total_sent < len(data):\n",
    "                        sent = sock.send(data[total_sent:])\n",
    "                        total_sent += sent\n",
    "                        data = f.read(50000)\n",
    "    except RuntimeError as e:\n",
    "        sys.stderr.write(f\"ERROR: {e}\\n\")\n",
    "        sys.exit(1)\n",
    "\n",
    "if __name__ == '__main__':\n",
    "    start()"
   ]
  },
  {
   "cell_type": "code",
   "execution_count": null,
   "id": "cc551441",
   "metadata": {},
   "outputs": [],
   "source": []
  }
 ],
 "metadata": {
  "kernelspec": {
   "display_name": "Python 3 (ipykernel)",
   "language": "python",
   "name": "python3"
  },
  "language_info": {
   "codemirror_mode": {
    "name": "ipython",
    "version": 3
   },
   "file_extension": ".py",
   "mimetype": "text/x-python",
   "name": "python",
   "nbconvert_exporter": "python",
   "pygments_lexer": "ipython3",
   "version": "3.8.11"
  }
 },
 "nbformat": 4,
 "nbformat_minor": 5
}
