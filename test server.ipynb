{
 "cells": [
  {
   "cell_type": "code",
   "execution_count": null,
   "id": "1b0c66f3",
   "metadata": {},
   "outputs": [
    {
     "name": "stdout",
     "output_type": "stream",
     "text": [
      "UDP server up and listening\n",
      "Message from Client:b'\\x00\\x00\\x004'\n",
      "Client IP Address:('127.0.0.1', 62566)\n",
      "Message from Client:b'\\x00\\x00\\x02\\x00'\n",
      "Client IP Address:('127.0.0.1', 54921)\n",
      "Message from Client:b'\\x00\\x00\\x00\\x01'\n",
      "Client IP Address:('127.0.0.1', 64277)\n"
     ]
    }
   ],
   "source": [
    "import socket\n",
    "\n",
    " \n",
    "\n",
    "localIP     = \"127.0.0.1\"\n",
    "\n",
    "localPort   = 20001\n",
    "\n",
    "bufferSize  = 1024\n",
    "\n",
    " \n",
    "\n",
    "msgFromServer       = \"Hello UDP Client\"\n",
    "\n",
    "bytesToSend         = str.encode(msgFromServer)\n",
    "\n",
    " \n",
    "\n",
    "# Create a datagram socket\n",
    "\n",
    "UDPServerSocket = socket.socket(family=socket.AF_INET, type=socket.SOCK_DGRAM)\n",
    "\n",
    " \n",
    "\n",
    "# Bind to address and ip\n",
    "\n",
    "UDPServerSocket.bind((localIP, localPort))\n",
    "\n",
    " \n",
    "\n",
    "print(\"UDP server up and listening\")\n",
    "\n",
    " \n",
    "\n",
    "# Listen for incoming datagrams\n",
    "\n",
    "while(True):\n",
    "\n",
    "    bytesAddressPair = UDPServerSocket.recvfrom(bufferSize)\n",
    "\n",
    "    message = bytesAddressPair[0]\n",
    "\n",
    "    address = bytesAddressPair[1]\n",
    "\n",
    "    clientMsg = \"Message from Client:{}\".format(message)\n",
    "    clientIP  = \"Client IP Address:{}\".format(address)\n",
    "    \n",
    "    print(clientMsg)\n",
    "    print(clientIP)\n",
    "\n",
    "   \n",
    "\n",
    "    # Sending a reply to client\n",
    "\n",
    "    UDPServerSocket.sendto(bytesToSend, address)"
   ]
  },
  {
   "cell_type": "code",
   "execution_count": null,
   "id": "4f6ed8c2",
   "metadata": {},
   "outputs": [],
   "source": []
  }
 ],
 "metadata": {
  "kernelspec": {
   "display_name": "Python 3 (ipykernel)",
   "language": "python",
   "name": "python3"
  },
  "language_info": {
   "codemirror_mode": {
    "name": "ipython",
    "version": 3
   },
   "file_extension": ".py",
   "mimetype": "text/x-python",
   "name": "python",
   "nbconvert_exporter": "python",
   "pygments_lexer": "ipython3",
   "version": "3.8.11"
  }
 },
 "nbformat": 4,
 "nbformat_minor": 5
}
